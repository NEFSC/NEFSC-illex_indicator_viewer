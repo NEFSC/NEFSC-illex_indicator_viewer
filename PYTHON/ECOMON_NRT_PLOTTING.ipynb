{
 "cells": [
  {
   "cell_type": "code",
   "execution_count": 61,
   "id": "e799e634-e8a0-40af-a604-5f4ae7be7ea7",
   "metadata": {},
   "outputs": [],
   "source": [
    "import os\n",
    "import warnings\n",
    "from urllib.error import HTTPError\n",
    "import urllib\n",
    "import ctd\n",
    "import numpy as np\n",
    "import pandas as pd\n",
    "import matplotlib.pyplot as plt\n",
    "from seabird.cnv import fCNV\n",
    "import urllib.request\n",
    "import cartopy\n",
    "from mpl_toolkits.axes_grid1 import make_axes_locatable\n",
    "import cartopy.feature as cfeature\n",
    "from shapely.ops import cascaded_union\n",
    "from glob import glob\n",
    "import gsw\n",
    "warnings.filterwarnings('ignore', category=SyntaxWarning)\n",
    "warnings.filterwarnings('ignore', category=UserWarning)\n"
   ]
  },
  {
   "cell_type": "code",
   "execution_count": 62,
   "id": "344afcf5-758f-4e32-8e30-ac52c764143d",
   "metadata": {},
   "outputs": [],
   "source": [
    "#set local directory\n",
    "try: \n",
    "    data_dir = r'C:\\Users\\haley.synan\\Documents\\DATA\\NRT_DATA'\n",
    "except: \n",
    "    data_dir = os.getcwd()"
   ]
  },
  {
   "cell_type": "code",
   "execution_count": 63,
   "id": "739131c0-0c34-49ff-811b-abd8d00ad08e",
   "metadata": {},
   "outputs": [],
   "source": [
    "folds=!gsutil ls gs://nmfs_odp_nefsc/NEFSC_CTD_Program_near_real_time_data\n",
    "folds = folds[2:-1]\n",
    "\n",
    "#make/cd directories\n",
    "for cruise in folds:\n",
    "    proj_name = cruise.split('/')[4]\n",
    "    try:\n",
    "        os.mkdir(data_dir+'\\\\'+proj_name)\n",
    "    except:\n",
    "        os.chdir(data_dir+'\\\\'+proj_name)\n",
    "    try:\n",
    "        os.mkdir(data_dir+'\\\\'+proj_name+'\\PLOTS')\n",
    "    except:\n",
    "        os.chdir(data_dir+'\\\\'+proj_name+'\\PLOTS')"
   ]
  },
  {
   "cell_type": "code",
   "execution_count": null,
   "id": "e3113d54-3cb5-49c4-b759-6e340d5e5ce2",
   "metadata": {},
   "outputs": [],
   "source": [
    "fnames = !gsutil ls gs://nmfs_odp_nefsc/NEFSC_CTD_Program_near_real_time_data/*/*.cnv\n",
    "fnames=fnames.list\n",
    "\n",
    "bathym = cfeature.NaturalEarthFeature(name='bathymetry_K_200', scale='10m', category='physical')\n",
    "bathym = cascaded_union(list(bathym.geometries()))\n",
    "\n",
    "for x in range(len(fnames)): \n",
    "    proj_name = fnames[x].split('/')[4]\n",
    "    data_dir_fold = data_dir+'\\\\'+proj_name\n",
    "    plotdir=data_dir+'\\\\'+proj_name+'\\PLOTS'\n",
    "    cast=[]\n",
    "    if fnames[x].split('/')[5] == 'ctd999.cnv':\n",
    "        pass\n",
    "    else: \n",
    "        file = data_dir_fold+'\\\\'+fnames[x].split('/')[5]\n",
    "        if os.path.isfile(file):\n",
    "            continue\n",
    "        else: \n",
    "            try: \n",
    "                down, up = ctd.from_cnv(file).split()\n",
    "                cast = up.reset_index().rename(columns={\"Pressure [dbar]\": \"pres\"})\n",
    "                cast= cast[cast.pres>0.5] #remove negative pressures\n",
    "            except:\n",
    "                urllib.request.urlretrieve('https://storage.googleapis.com/'+fnames[x].split('//')[1],file)\n",
    "                down, up = ctd.from_cnv(file).split()\n",
    "                cast = up.reset_index().rename(columns={\"Pressure [dbar]\": \"pres\"})\n",
    "                cast= cast[cast.pres>0.5] #remove negative pressures\n",
    "            try:\n",
    "                file = fCNV(file)\n",
    "                lat = file.attributes['LATITUDE']\n",
    "                lon = file.attributes['LONGITUDE']\n",
    "                try: #check if sbe or ctd profile \n",
    "                    cast.t090C\n",
    "                    cast = cast.rename(columns={\"t090C\": \"temp\"})\n",
    "                    supname = 'CTD Cast '+fnames[x].split('d')[3].split('.')[0]+'\\n'+file.attributes['gps_datetime']\n",
    "                except AttributeError:\n",
    "                    cast.tv290C\n",
    "                    cast = cast.rename(columns={\"tv290C\": \"temp\"})\n",
    "                    supname = 'SBE Cast '+fnames[x].split('e')[5].split('.')[0]+'\\n'+file.attributes['gps_datetime']\n",
    "                if os.path.exists(plotdir + '\\Cast'+supname.splitlines()[0].split()[2]+ supname.splitlines()[0].split()[0]+ '.jpg'): \n",
    "                    pass \n",
    "                else: \n",
    "                    #QUICK QA- remove bad values\n",
    "                    cast = cast[cast.temp != -99.0] \n",
    "                    cast = cast[cast.sal00 != 1999]\n",
    "                \n",
    "                    fig = plt.figure(figsize=[15, 7])\n",
    "                    fig.suptitle(supname, y=.8)\n",
    "                    #fig.set_title(file.attributes['gps_datetime'],loc='right')\n",
    "                    #fig.tight_layout()\n",
    "                \n",
    "                    ax1 = fig.add_subplot(111, projection=cartopy.crs.PlateCarree())\n",
    "                    im = plt.scatter(lon, lat,s=30, marker=\"*\", c='red')\n",
    "                    ax1.coastlines()\n",
    "                    ax1.set_title(\"Station Location\")\n",
    "                    ax1.set_xlim([-77,-63])\n",
    "                    ax1.set_ylim([35,46])\n",
    "                    ax1.add_geometries(bathym, facecolor='none', edgecolor='black', crs=cartopy.crs.PlateCarree())\n",
    "                    ax1.add_feature(cartopy.feature.LAND, zorder=100, facecolor='lightgrey') \n",
    "                    ax1.set_xticks(np.linspace(-78, -63.4, 5), crs=cartopy.crs.PlateCarree())\n",
    "                    ax1.set_yticks(np.linspace(34.3, 47, 5), crs=cartopy.crs.PlateCarree())\n",
    "                    ax1.set_ylabel('Latitude')\n",
    "                    ax1.set_xlabel('Longitude')\n",
    "                    ax1.tick_params(labelsize=8)\n",
    "                    \n",
    "                    # Create a Matplotlib AxesDivider object to allow alignment of other\n",
    "                    # Axes objects.\n",
    "                    divider = make_axes_locatable(ax1)\n",
    "                \n",
    "                    # Plot \"collapsed_temp\" on the mean graph and set the ticks and titles\n",
    "                    # on the axes.\n",
    "                    ax3 = divider.new_horizontal(\n",
    "                        size=\"100%\", pad=0.65, axes_class=plt.Axes\n",
    "                    )  # create 3rd axis\n",
    "                    fig.add_axes(ax3)\n",
    "                    ax3.scatter(cast.temp,cast.pres, s=6)\n",
    "                    if max(cast.temp) - min(cast.temp) < 4:\n",
    "                        ax3.set_xlim([cast.temp.mean()-1.5, cast.temp.mean()+1.5])\n",
    "                    ax3.set_xlabel(\"Temperature (C)\")\n",
    "                    ax3.invert_yaxis()\n",
    "                    ax3.set_ylabel(\"Pressure (db)\")\n",
    "                    ax2 = ax3.twiny()\n",
    "                    ax2.scatter(cast.sal00, cast.pres, c='green', s=6)\n",
    "                    if max(cast.sal00) - min(cast.sal00) < 1:\n",
    "                        ax2.set_xlim([cast.sal00.mean()-0.75, cast.sal00.mean()+0.75])\n",
    "                    ax2.set_xlabel(\"Salinity (psu)\")\n",
    "                    ax2.tick_params(labelsize=8)\n",
    "                    ax3.tick_params(labelsize=8)\n",
    "                    ax3.xaxis.label.set_color('tab:blue')   \n",
    "                    ax2.xaxis.label.set_color('tab:green')   \n",
    "                \n",
    "                \n",
    "                    ax4 = divider.new_horizontal(\n",
    "                        size=\"100%\", pad=0.65, axes_class=plt.Axes\n",
    "                    )  # create 3rd axis\n",
    "                    fig.add_axes(ax4)\n",
    "                    xdim = np.ceil((cast.sal00.max()+1) - (cast.sal00.min()-1))/0.1\n",
    "                    ydim = np.ceil((cast.temp.max()+3)-(cast.temp.min() -3))\n",
    "                    dens = np.zeros((int(ydim),int(xdim)))\n",
    "                    \n",
    "                    # Create temp and salt vectors of appropiate dimensions\n",
    "                    ti = np.linspace(0,int(ydim),int(ydim))+(cast.temp.min() - 3)\n",
    "                    si = np.linspace(1,int(xdim),int(xdim))*0.1+(cast.sal00.min() - 1)\n",
    "                    \n",
    "                    # Loop to fill in grid with densities\n",
    "                    for j in range(0,int(ydim)):\n",
    "                        for i in range(0, int(xdim)):\n",
    "                            dens[j,i]=gsw.rho(si[i],ti[j],0)\n",
    "                    \n",
    "                    # Subtract 1000 to convert to sigma-t\n",
    "                    dens = dens - 1000\n",
    "                    CS = plt.contour(si,ti,dens, linestyles='dashed', colors='k')\n",
    "                    ax4.clabel(CS, fontsize=7, inline=1, fmt='%.2f') # Label every second level\n",
    "                    pl = ax4.scatter(cast.sal00,cast.temp, c=cast.pres, cmap=plt.cm.viridis, lw=0, s=25)\n",
    "                    ax4.set_xlabel('Salinity (PSU)')\n",
    "                    ax4.set_ylabel('Temperature (C)')\n",
    "                    ax4.set_title(\"T-S plot\")\n",
    "                    if max(cast.temp) - min(cast.temp) < 4:\n",
    "                        ax4.set_ylim([cast.temp.mean()-2, cast.temp.mean()+2])\n",
    "                    if max(cast.sal00) - min(cast.sal00) < 1:\n",
    "                        ax2.set_xlim([cast.sal00.mean()-0.75, cast.sal00.mean()+0.75])\n",
    "                    #ax4.set_xlim([(cast.sal00.min()-1) + 0.75, (cast.sal00.max()+1)-.75])\n",
    "                    #ax4.set_ylim([(cast.temp.min() - 1) +0.75, (cast.temp.max() + 1)-0.75])\n",
    "                    cb = fig.colorbar(pl, ax=ax1, shrink=0.48, pad=0.01, label='Depth (m)')\n",
    "                    cb.ax.invert_yaxis()\n",
    "                    fig.tight_layout()\n",
    "                    plt.show()\n",
    "                    fig.savefig(plotdir + '\\Cast'+supname.splitlines()[0].split()[2]+ supname.splitlines()[0].split()[0]+ '.jpg',  dpi=400, bbox_inches='tight') #, pad_inches = -4)\n",
    "            except:\n",
    "                continue"
   ]
  },
  {
   "cell_type": "code",
   "execution_count": 66,
   "id": "698c5de6-8ab9-482d-b46a-cd523d5035be",
   "metadata": {},
   "outputs": [],
   "source": [
    "#push to github\n",
    "os.chdir(data_dir)"
   ]
  },
  {
   "cell_type": "code",
   "execution_count": 67,
   "id": "dcd967e6-b2a1-47ae-93d4-66df2943e6e5",
   "metadata": {},
   "outputs": [
    {
     "name": "stdout",
     "output_type": "stream",
     "text": [
      "On branch master\n",
      "Your branch is up to date with 'origin/master'.\n",
      "\n",
      "nothing to commit, working tree clean\n"
     ]
    }
   ],
   "source": [
    "!git status"
   ]
  },
  {
   "cell_type": "code",
   "execution_count": 68,
   "id": "89d6eeef-9771-4a40-a927-e6ed04a43839",
   "metadata": {},
   "outputs": [
    {
     "name": "stdout",
     "output_type": "stream",
     "text": [
      "Updating 8aa77fc..0878bfb\n",
      "Fast-forward\n"
     ]
    },
    {
     "name": "stderr",
     "output_type": "stream",
     "text": [
      "From https://github.com/hsynan/NRT_data\n",
      " * branch            main       -> FETCH_HEAD\n",
      "   e30da24..0878bfb  main       -> origin/main\n"
     ]
    }
   ],
   "source": [
    "!git pull origin main"
   ]
  },
  {
   "cell_type": "code",
   "execution_count": 71,
   "id": "d8196746-c0a2-4e22-9e22-8d959a795c68",
   "metadata": {},
   "outputs": [
    {
     "name": "stdout",
     "output_type": "stream",
     "text": [
      "On branch master\n",
      "Your branch is ahead of 'origin/master' by 1 commit.\n",
      "  (use \"git push\" to publish your local commits)\n",
      "\n",
      "nothing to commit, working tree clean\n",
      "branch 'master' set up to track 'origin/master'.\n"
     ]
    },
    {
     "name": "stderr",
     "output_type": "stream",
     "text": [
      "To https://github.com/hsynan/NRT_data.git\n",
      "   8aa77fc..0878bfb  head -> master\n"
     ]
    }
   ],
   "source": [
    "#add all changed files, commit with message, and push\n",
    "!git add --all \n",
    "!git commit -m \"pushing updated\"\n",
    "!git push -u origin head\n"
   ]
  },
  {
   "cell_type": "code",
   "execution_count": null,
   "id": "0a186e6d-7e07-4aa3-b55d-c3ef9cea60ca",
   "metadata": {},
   "outputs": [],
   "source": []
  }
 ],
 "metadata": {
  "kernelspec": {
   "display_name": "Python 3 (ipykernel)",
   "language": "python",
   "name": "python3"
  },
  "language_info": {
   "codemirror_mode": {
    "name": "ipython",
    "version": 3
   },
   "file_extension": ".py",
   "mimetype": "text/x-python",
   "name": "python",
   "nbconvert_exporter": "python",
   "pygments_lexer": "ipython3",
   "version": "3.12.7"
  }
 },
 "nbformat": 4,
 "nbformat_minor": 5
}
