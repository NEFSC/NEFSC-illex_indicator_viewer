{
 "cells": [
  {
   "cell_type": "markdown",
   "id": "0fb7bc0b-f4ae-42a5-9b70-27d6ec1dfae6",
   "metadata": {},
   "source": [
    "## hello"
   ]
  },
  {
   "cell_type": "code",
   "execution_count": 8,
   "id": "55a7857c-7da2-43ef-99a2-ca1e1a520979",
   "metadata": {},
   "outputs": [],
   "source": [
    "import os\n",
    "import warnings\n",
    "from urllib.error import HTTPError\n",
    "import urllib\n",
    "import ctd\n",
    "import numpy as np\n",
    "import pandas as pd\n",
    "import matplotlib.pyplot as plt\n",
    "from seabird.cnv import fCNV\n",
    "import urllib.request\n",
    "import cartopy\n",
    "from mpl_toolkits.axes_grid1 import make_axes_locatable\n",
    "import cartopy.feature as cfeature\n",
    "from shapely.ops import cascaded_union\n",
    "from glob import glob\n",
    "import gsw\n",
    "warnings.filterwarnings('ignore', category=SyntaxWarning)\n",
    "warnings.filterwarnings('ignore', category=UserWarning)\n"
   ]
  },
  {
   "cell_type": "code",
   "execution_count": 58,
   "id": "d6ed06cf-24f7-4ab8-823f-570248244ae2",
   "metadata": {},
   "outputs": [],
   "source": [
    "#set local directory\n",
    "try: \n",
    "    data_dir = r'C:\\Users\\haley.synan\\Documents\\DATA'\n",
    "except: \n",
    "    data_dir = os.getcwd()"
   ]
  },
  {
   "cell_type": "code",
   "execution_count": 45,
   "id": "3a062827-076d-4b8a-a35a-91efb6842247",
   "metadata": {},
   "outputs": [],
   "source": [
    "folds=!gsutil ls gs://nmfs_odp_nefsc/NEFSC_CTD_Program_near_real_time_data\n",
    "folds = folds[2:-1]"
   ]
  },
  {
   "cell_type": "code",
   "execution_count": 55,
   "id": "9859a930-5d08-48d9-bfa5-2960dc2b07a0",
   "metadata": {},
   "outputs": [
    {
     "name": "stderr",
     "output_type": "stream",
     "text": [
      "C:\\Users\\haley.synan\\AppData\\Local\\Temp\\ipykernel_7812\\3427102418.py:5: ShapelyDeprecationWarning: The 'cascaded_union()' function is deprecated. Use 'unary_union()' instead.\n",
      "  bathym = cascaded_union(list(bathym.geometries()))\n"
     ]
    }
   ],
   "source": [
    "bathym = cfeature.NaturalEarthFeature(name='bathymetry_K_200', scale='10m', category='physical')\n",
    "bathym = cascaded_union(list(bathym.geometries()))\n",
    "\n",
    "for cruise in folds:\n",
    "    proj_name = cruise.split('/')[4]\n",
    "    try:\n",
    "        os.mkdir(data_dir+'\\ECOMON'+'\\\\'+proj_name)\n",
    "    except:\n",
    "        os.chdir(data_dir+'\\ECOMON'+'\\\\'+proj_name)\n",
    "    try:\n",
    "        os.mkdir(data_dir+'\\ECOMON'+'\\\\'+proj_name+'\\PLOTS')\n",
    "    except:\n",
    "        os.chdir(data_dir+'\\ECOMON'+'\\\\'+proj_name+'\\PLOTS')\n",
    "    data_dir_fold = data_dir+'\\ECOMON'+'\\\\'+proj_name\n",
    "    plotdir=data_dir+'\\ECOMON'+'\\\\'+proj_name+'\\PLOTS'\n",
    "    cast=[]\n",
    "    for x in range(len(fnames)):\n",
    "        if fnames[x].split('/')[5] == 'ctd999.cnv':\n",
    "            pass\n",
    "        else: \n",
    "            file = data_dir_fold+'\\\\'+fnames[x].split('/')[5]\n",
    "            try: \n",
    "                down, up = ctd.from_cnv(file).split()\n",
    "                cast = up.reset_index().rename(columns={\"Pressure [dbar]\": \"pres\"})\n",
    "                cast= cast[cast.pres>0.5] #remove negative pressures\n",
    "            except:\n",
    "                urllib.request.urlretrieve('https://storage.googleapis.com/'+fnames[x].split('//')[1],file)\n",
    "                down, up = ctd.from_cnv(file).split()\n",
    "                cast = up.reset_index().rename(columns={\"Pressure [dbar]\": \"pres\"})\n",
    "                cast= cast[cast.pres>0.5] #remove negative pressures\n",
    "    \n",
    "            file = fCNV(file)\n",
    "            lat = file.attributes['LATITUDE']\n",
    "            lon = file.attributes['LONGITUDE']\n",
    "            try: #check if sbe or ctd profile \n",
    "                cast.t090C\n",
    "                cast = cast.rename(columns={\"t090C\": \"temp\"})\n",
    "                supname = 'CTD Cast '+fnames[x].split('d')[3].split('.')[0]+'\\n'+file.attributes['gps_datetime']\n",
    "            except AttributeError:\n",
    "                cast.tv290C\n",
    "                cast = cast.rename(columns={\"tv290C\": \"temp\"})\n",
    "                supname = 'SBE Cast '+fnames[x].split('e')[5].split('.')[0]+'\\n'+file.attributes['gps_datetime']\n",
    "            if os.path.exists(plotdir + '\\Cast'+supname.splitlines()[0].split()[2]+ supname.splitlines()[0].split()[0]+ '.jpg'): \n",
    "                pass \n",
    "            else: \n",
    "                #QUICK QA- remove bad values\n",
    "                cast = cast[cast.temp != -99.0] \n",
    "                cast = cast[cast.sal00 != 1999]\n",
    "            \n",
    "                fig = plt.figure(figsize=[15, 7])\n",
    "                fig.suptitle(supname, y=.8)\n",
    "                #fig.set_title(file.attributes['gps_datetime'],loc='right')\n",
    "                #fig.tight_layout()\n",
    "            \n",
    "                ax1 = fig.add_subplot(111, projection=cartopy.crs.PlateCarree())\n",
    "                im = plt.scatter(lon, lat,s=30, marker=\"*\", c='red')\n",
    "                ax1.coastlines()\n",
    "                ax1.set_title(\"Station Location\")\n",
    "                ax1.set_xlim([-77,-63])\n",
    "                ax1.set_ylim([35,46])\n",
    "                ax1.add_geometries(bathym, facecolor='none', edgecolor='black', crs=cartopy.crs.PlateCarree())\n",
    "                ax1.add_feature(cartopy.feature.LAND, zorder=100, facecolor='lightgrey') \n",
    "                ax1.set_xticks(np.linspace(-78, -63.4, 5), crs=cartopy.crs.PlateCarree())\n",
    "                ax1.set_yticks(np.linspace(34.3, 47, 5), crs=cartopy.crs.PlateCarree())\n",
    "                ax1.set_ylabel('Latitude')\n",
    "                ax1.set_xlabel('Longitude')\n",
    "                ax1.tick_params(labelsize=8)\n",
    "                \n",
    "                # Create a Matplotlib AxesDivider object to allow alignment of other\n",
    "                # Axes objects.\n",
    "                divider = make_axes_locatable(ax1)\n",
    "            \n",
    "                # Plot \"collapsed_temp\" on the mean graph and set the ticks and titles\n",
    "                # on the axes.\n",
    "                ax3 = divider.new_horizontal(\n",
    "                    size=\"100%\", pad=0.65, axes_class=plt.Axes\n",
    "                )  # create 3rd axis\n",
    "                fig.add_axes(ax3)\n",
    "                ax3.scatter(cast.temp,cast.pres, s=6)\n",
    "                if max(cast.temp) - min(cast.temp) < 4:\n",
    "                    ax3.set_xlim([cast.temp.mean()-1.5, cast.temp.mean()+1.5])\n",
    "                ax3.set_xlabel(\"Temperature (C)\")\n",
    "                ax3.invert_yaxis()\n",
    "                ax3.set_ylabel(\"Pressure (db)\")\n",
    "                ax2 = ax3.twiny()\n",
    "                ax2.scatter(cast.sal00, cast.pres, c='green', s=6)\n",
    "                if max(cast.sal00) - min(cast.sal00) < 1:\n",
    "                    ax2.set_xlim([cast.sal00.mean()-0.75, cast.sal00.mean()+0.75])\n",
    "                ax2.set_xlabel(\"Salinity (psu)\")\n",
    "                ax2.tick_params(labelsize=8)\n",
    "                ax3.tick_params(labelsize=8)\n",
    "                ax3.xaxis.label.set_color('tab:blue')   \n",
    "                ax2.xaxis.label.set_color('tab:green')   \n",
    "            \n",
    "            \n",
    "                ax4 = divider.new_horizontal(\n",
    "                    size=\"100%\", pad=0.65, axes_class=plt.Axes\n",
    "                )  # create 3rd axis\n",
    "                fig.add_axes(ax4)\n",
    "                xdim = np.ceil((cast.sal00.max()+1) - (cast.sal00.min()-1))/0.1\n",
    "                ydim = np.ceil((cast.temp.max()+3)-(cast.temp.min() -3))\n",
    "                dens = np.zeros((int(ydim),int(xdim)))\n",
    "                \n",
    "                # Create temp and salt vectors of appropiate dimensions\n",
    "                ti = np.linspace(0,int(ydim),int(ydim))+(cast.temp.min() - 3)\n",
    "                si = np.linspace(1,int(xdim),int(xdim))*0.1+(cast.sal00.min() - 1)\n",
    "                \n",
    "                # Loop to fill in grid with densities\n",
    "                for j in range(0,int(ydim)):\n",
    "                    for i in range(0, int(xdim)):\n",
    "                        dens[j,i]=gsw.rho(si[i],ti[j],0)\n",
    "                \n",
    "                # Subtract 1000 to convert to sigma-t\n",
    "                dens = dens - 1000\n",
    "                CS = plt.contour(si,ti,dens, linestyles='dashed', colors='k')\n",
    "                ax4.clabel(CS, fontsize=7, inline=1, fmt='%.2f') # Label every second level\n",
    "                pl = ax4.scatter(cast.sal00,cast.temp, c=cast.pres, cmap=plt.cm.viridis, lw=0, s=25)\n",
    "                ax4.set_xlabel('Salinity (PSU)')\n",
    "                ax4.set_ylabel('Temperature (C)')\n",
    "                ax4.set_title(\"T-S plot\")\n",
    "                if max(cast.temp) - min(cast.temp) < 4:\n",
    "                    ax4.set_ylim([cast.temp.mean()-2, cast.temp.mean()+2])\n",
    "                if max(cast.sal00) - min(cast.sal00) < 1:\n",
    "                    ax2.set_xlim([cast.sal00.mean()-0.75, cast.sal00.mean()+0.75])\n",
    "                #ax4.set_xlim([(cast.sal00.min()-1) + 0.75, (cast.sal00.max()+1)-.75])\n",
    "                #ax4.set_ylim([(cast.temp.min() - 1) +0.75, (cast.temp.max() + 1)-0.75])\n",
    "                cb = fig.colorbar(pl, ax=ax1, shrink=0.48, pad=0.01, label='Depth (m)')\n",
    "                cb.ax.invert_yaxis()\n",
    "                fig.tight_layout()\n",
    "                plt.show()\n",
    "                fig.savefig(plotdir + '\\Cast'+supname.splitlines()[0].split()[2]+ supname.splitlines()[0].split()[0]+ '.jpg',  dpi=400, bbox_inches='tight') #, pad_inches = -4)\n",
    "    \n",
    "            "
   ]
  },
  {
   "cell_type": "code",
   "execution_count": 61,
   "id": "a2ce31bb-5701-4e01-8f71-7871de418cf7",
   "metadata": {},
   "outputs": [],
   "source": [
    "os.chdir(data_dir+'/ECOMON')"
   ]
  },
  {
   "cell_type": "code",
   "execution_count": 63,
   "id": "9b1b2348-d3f1-450e-aeb6-7b2a60f165f8",
   "metadata": {},
   "outputs": [
    {
     "name": "stdout",
     "output_type": "stream",
     "text": [
      "Initialized empty Git repository in C:/Users/haley.synan/Documents/DATA/ECOMON/.git/\n"
     ]
    }
   ],
   "source": [
    "!git init"
   ]
  },
  {
   "cell_type": "code",
   "execution_count": 66,
   "id": "ae11fefe-13cb-4e4d-a2eb-859aa22c47fe",
   "metadata": {},
   "outputs": [],
   "source": [
    "!git add . "
   ]
  },
  {
   "cell_type": "code",
   "execution_count": null,
   "id": "46f16b17-92c1-4c16-85db-700bab5b7845",
   "metadata": {},
   "outputs": [],
   "source": [
    "!git commit -m \"testing uploads\"\n",
    "!git remote add origin git@github.com:hsynan/ecomon.git"
   ]
  },
  {
   "cell_type": "code",
   "execution_count": 70,
   "id": "ffb0d3b5-83ca-4000-aaeb-ee4f5f577d5f",
   "metadata": {},
   "outputs": [
    {
     "name": "stderr",
     "output_type": "stream",
     "text": [
      "error: src refspec main does not match any\n",
      "error: failed to push some refs to 'github.com:hsynan/ecomon.git'\n"
     ]
    }
   ],
   "source": [
    "!git push -u origin main"
   ]
  },
  {
   "cell_type": "code",
   "execution_count": 71,
   "id": "f96ec4ce-f070-4f39-9125-f9aa6e23328e",
   "metadata": {},
   "outputs": [
    {
     "name": "stderr",
     "output_type": "stream",
     "text": [
      "Host key verification failed.\n",
      "fatal: Could not read from remote repository.\n",
      "\n",
      "Please make sure you have the correct access rights\n",
      "and the repository exists.\n"
     ]
    }
   ],
   "source": [
    "!git pull"
   ]
  },
  {
   "cell_type": "code",
   "execution_count": 77,
   "id": "8693e690-6ed0-49a9-b779-b433208cc0c0",
   "metadata": {},
   "outputs": [
    {
     "name": "stdout",
     "output_type": "stream",
     "text": [
      "Reinitialized existing Git repository in C:/Users/haley.synan/Documents/DATA/ECOMON/.git/\n"
     ]
    },
    {
     "name": "stderr",
     "output_type": "stream",
     "text": [
      "usage: git symbolic-ref [-m <reason>] <name> <ref>\n",
      "   or: git symbolic-ref [-q] [--short] [--no-recurse] <name>\n",
      "   or: git symbolic-ref --delete [-q] <name>\n",
      "\n",
      "    -q, --[no-]quiet      suppress error message for non-symbolic (detached) refs\n",
      "    -d, --[no-]delete     delete symbolic ref\n",
      "    --[no-]short          shorten ref output\n",
      "    --[no-]recurse        recursively dereference (default)\n",
      "    -m <reason>           reason of the update\n",
      "\n",
      "error: remote origin already exists.\n"
     ]
    }
   ],
   "source": [
    "!git init && git symbolic-ref HEAD refs/heads/main #initialize cwd as local git repo\n",
    "!git remote add origin git@github.com:hsynan/ecomon.git"
   ]
  },
  {
   "cell_type": "code",
   "execution_count": 78,
   "id": "a3622cfc-b830-42e0-9a1b-affa4a51a2e3",
   "metadata": {},
   "outputs": [
    {
     "name": "stderr",
     "output_type": "stream",
     "text": [
      "Host key verification failed.\n",
      "fatal: Could not read from remote repository.\n",
      "\n",
      "Please make sure you have the correct access rights\n",
      "and the repository exists.\n"
     ]
    }
   ],
   "source": [
    "!git remote show origin "
   ]
  },
  {
   "cell_type": "code",
   "execution_count": 79,
   "id": "05cfa23e-8311-4bca-b9d0-29b1654bcfd9",
   "metadata": {},
   "outputs": [
    {
     "name": "stderr",
     "output_type": "stream",
     "text": [
      "ssh: Could not resolve hostname github.com:hsynan/ecomon.git: No such host is known. \n"
     ]
    }
   ],
   "source": [
    "!ssh -T git@github.com:hsynan/ecomon.git"
   ]
  },
  {
   "cell_type": "code",
   "execution_count": null,
   "id": "55e54ba0-6e04-46f5-b37a-5d5378bda878",
   "metadata": {},
   "outputs": [],
   "source": []
  }
 ],
 "metadata": {
  "kernelspec": {
   "display_name": "Python 3 (ipykernel)",
   "language": "python",
   "name": "python3"
  },
  "language_info": {
   "codemirror_mode": {
    "name": "ipython",
    "version": 3
   },
   "file_extension": ".py",
   "mimetype": "text/x-python",
   "name": "python",
   "nbconvert_exporter": "python",
   "pygments_lexer": "ipython3",
   "version": "3.12.7"
  }
 },
 "nbformat": 4,
 "nbformat_minor": 5
}
